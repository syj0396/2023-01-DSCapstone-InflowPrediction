{
 "cells": [
  {
   "cell_type": "code",
   "execution_count": 2,
   "metadata": {},
   "outputs": [],
   "source": [
    "import numpy as np\n",
    "import pandas as  pd"
   ]
  },
  {
   "cell_type": "code",
   "execution_count": null,
   "metadata": {},
   "outputs": [],
   "source": [
    "['합천댐수위데이터.xls', '합천댐방수로수위데이터.xls']"
   ]
  },
  {
   "cell_type": "code",
   "execution_count": 78,
   "metadata": {},
   "outputs": [
    {
     "name": "stderr",
     "output_type": "stream",
     "text": [
      "/var/folders/k7/9gs0gtnx2mq7v2qxmtqtbmbh0000gn/T/ipykernel_1974/257677097.py:9: DeprecationWarning: In a future version, `df.iloc[:, i] = newvals` will attempt to set the values inplace instead of always setting a new array. To retain the old behavior, use either `df[df.columns[i]] = newvals` or, if columns are non-unique, `df.isetitem(i, newvals)`\n",
      "  df.loc[:,df.columns!='관측 일시'] = df.loc[:,df.columns!='관측 일시'].astype(float)\n"
     ]
    }
   ],
   "source": [
    "df = pd.read_excel('./data/합천댐수위데이터.xls')\n",
    "df['관측 일시'] = df['관측 일시'].apply(str)\n",
    "ind = df[df['관측 일시']=='1992-04-01'].index\n",
    "indt = df[df['관측 일시']=='2023-04-03'].index\n",
    "\n",
    "df = df[ind[0]:indt[0]+1]\n",
    "df.reset_index(drop=True, inplace=True)\n",
    "df['관측 일시'] = pd.to_datetime(df['관측 일시'], format=\"%Y-%m-%d\")\n",
    "df.loc[:,df.columns!='관측 일시'] = df.loc[:,df.columns!='관측 일시'].astype(float)\n",
    "df_dam = df"
   ]
  },
  {
   "cell_type": "code",
   "execution_count": 79,
   "metadata": {},
   "outputs": [
    {
     "name": "stderr",
     "output_type": "stream",
     "text": [
      "/var/folders/k7/9gs0gtnx2mq7v2qxmtqtbmbh0000gn/T/ipykernel_1974/3651889039.py:9: DeprecationWarning: In a future version, `df.iloc[:, i] = newvals` will attempt to set the values inplace instead of always setting a new array. To retain the old behavior, use either `df[df.columns[i]] = newvals` or, if columns are non-unique, `df.isetitem(i, newvals)`\n",
      "  df.loc[:,df.columns!='관측 일시'] = df.loc[:,df.columns!='관측 일시'].astype(float)\n"
     ]
    }
   ],
   "source": [
    "df = pd.read_excel('./data/합천댐방수로수위데이터.xls')\n",
    "df['관측 일시'] = df['관측 일시'].apply(str)\n",
    "ind = df[df['관측 일시']=='1992-04-01'].index\n",
    "indt = df[df['관측 일시']=='2023-04-03'].index\n",
    "\n",
    "df = df[ind[0]:indt[0]+1]\n",
    "df.reset_index(drop=True, inplace=True)\n",
    "df['관측 일시'] = pd.to_datetime(df['관측 일시'], format=\"%Y-%m-%d\")\n",
    "df.loc[:,df.columns!='관측 일시'] = df.loc[:,df.columns!='관측 일시'].astype(float)\n",
    "df_bang = df"
   ]
  },
  {
   "cell_type": "code",
   "execution_count": null,
   "metadata": {},
   "outputs": [],
   "source": [
    "df_dam_merge = pd.merge(df_dam, df_bang, how='outer', on='관측 일시', suffixes=('_합천댐', '_합천댐방수로'))\n",
    "df_dam_merge.info()"
   ]
  },
  {
   "cell_type": "code",
   "execution_count": 85,
   "metadata": {},
   "outputs": [],
   "source": [
    "df_dam.to_csv('./data/합천댐수위데이터.csv', index=False)\n",
    "df_bang.to_csv('./data/합천댐방수로수위데이터.csv', index=False)\n",
    "df_dam_merge.to_csv('./data/합천댐_댐방수로.csv', index=False)"
   ]
  }
 ],
 "metadata": {
  "kernelspec": {
   "display_name": "Python 3",
   "language": "python",
   "name": "python3"
  },
  "language_info": {
   "codemirror_mode": {
    "name": "ipython",
    "version": 3
   },
   "file_extension": ".py",
   "mimetype": "text/x-python",
   "name": "python",
   "nbconvert_exporter": "python",
   "pygments_lexer": "ipython3",
   "version": "3.11.2"
  },
  "orig_nbformat": 4
 },
 "nbformat": 4,
 "nbformat_minor": 2
}
