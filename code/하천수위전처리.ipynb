{
 "cells": [
  {
   "cell_type": "code",
   "execution_count": 2,
   "metadata": {},
   "outputs": [],
   "source": [
    "import numpy as np\n",
    "import pandas as  pd"
   ]
  },
  {
   "cell_type": "code",
   "execution_count": null,
   "metadata": {},
   "outputs": [],
   "source": [
    "['합천댐수위데이터.xls', '합천댐방수로수위데이터.xls']"
   ]
  },
  {
   "cell_type": "code",
   "execution_count": 78,
   "metadata": {},
   "outputs": [
    {
     "name": "stderr",
     "output_type": "stream",
     "text": [
      "/var/folders/k7/9gs0gtnx2mq7v2qxmtqtbmbh0000gn/T/ipykernel_1974/257677097.py:9: DeprecationWarning: In a future version, `df.iloc[:, i] = newvals` will attempt to set the values inplace instead of always setting a new array. To retain the old behavior, use either `df[df.columns[i]] = newvals` or, if columns are non-unique, `df.isetitem(i, newvals)`\n",
      "  df.loc[:,df.columns!='관측 일시'] = df.loc[:,df.columns!='관측 일시'].astype(float)\n"
     ]
    }
   ],
   "source": [
    "df = pd.read_excel('./data/합천댐수위데이터.xls')\n",
    "df['관측 일시'] = df['관측 일시'].apply(str)\n",
    "ind = df[df['관측 일시']=='1992-04-01'].index\n",
    "indt = df[df['관측 일시']=='2023-04-03'].index\n",
    "\n",
    "df = df[ind[0]:indt[0]+1]\n",
    "df.reset_index(drop=True, inplace=True)\n",
    "df['관측 일시'] = pd.to_datetime(df['관측 일시'], format=\"%Y-%m-%d\")\n",
    "df.loc[:,df.columns!='관측 일시'] = df.loc[:,df.columns!='관측 일시'].astype(float)\n",
    "df_dam = df"
   ]
  },
  {
   "cell_type": "code",
   "execution_count": 79,
   "metadata": {},
   "outputs": [
    {
     "name": "stderr",
     "output_type": "stream",
     "text": [
      "/var/folders/k7/9gs0gtnx2mq7v2qxmtqtbmbh0000gn/T/ipykernel_1974/3651889039.py:9: DeprecationWarning: In a future version, `df.iloc[:, i] = newvals` will attempt to set the values inplace instead of always setting a new array. To retain the old behavior, use either `df[df.columns[i]] = newvals` or, if columns are non-unique, `df.isetitem(i, newvals)`\n",
      "  df.loc[:,df.columns!='관측 일시'] = df.loc[:,df.columns!='관측 일시'].astype(float)\n"
     ]
    }
   ],
   "source": [
    "df = pd.read_excel('./data/합천댐방수로수위데이터.xls')\n",
    "df['관측 일시'] = df['관측 일시'].apply(str)\n",
    "ind = df[df['관측 일시']=='1992-04-01'].index\n",
    "indt = df[df['관측 일시']=='2023-04-03'].index\n",
    "\n",
    "df = df[ind[0]:indt[0]+1]\n",
    "df.reset_index(drop=True, inplace=True)\n",
    "df['관측 일시'] = pd.to_datetime(df['관측 일시'], format=\"%Y-%m-%d\")\n",
    "df.loc[:,df.columns!='관측 일시'] = df.loc[:,df.columns!='관측 일시'].astype(float)\n",
    "df_bang = df"
   ]
  },
  {
   "cell_type": "code",
   "execution_count": 80,
   "metadata": {},
   "outputs": [
    {
     "data": {
      "text/html": [
       "<div>\n",
       "<style scoped>\n",
       "    .dataframe tbody tr th:only-of-type {\n",
       "        vertical-align: middle;\n",
       "    }\n",
       "\n",
       "    .dataframe tbody tr th {\n",
       "        vertical-align: top;\n",
       "    }\n",
       "\n",
       "    .dataframe thead th {\n",
       "        text-align: right;\n",
       "    }\n",
       "</style>\n",
       "<table border=\"1\" class=\"dataframe\">\n",
       "  <thead>\n",
       "    <tr style=\"text-align: right;\">\n",
       "      <th></th>\n",
       "      <th>관측 일시</th>\n",
       "      <th>01시</th>\n",
       "      <th>02시</th>\n",
       "      <th>03시</th>\n",
       "      <th>04시</th>\n",
       "      <th>05시</th>\n",
       "      <th>06시</th>\n",
       "      <th>07시</th>\n",
       "      <th>08시</th>\n",
       "      <th>09시</th>\n",
       "      <th>...</th>\n",
       "      <th>15시</th>\n",
       "      <th>16시</th>\n",
       "      <th>17시</th>\n",
       "      <th>18시</th>\n",
       "      <th>19시</th>\n",
       "      <th>20시</th>\n",
       "      <th>21시</th>\n",
       "      <th>22시</th>\n",
       "      <th>23시</th>\n",
       "      <th>24시</th>\n",
       "    </tr>\n",
       "  </thead>\n",
       "  <tbody>\n",
       "    <tr>\n",
       "      <th>9980</th>\n",
       "      <td>2023-04-03</td>\n",
       "      <td>146.24</td>\n",
       "      <td>146.24</td>\n",
       "      <td>146.24</td>\n",
       "      <td>146.25</td>\n",
       "      <td>146.25</td>\n",
       "      <td>146.25</td>\n",
       "      <td>146.25</td>\n",
       "      <td>146.25</td>\n",
       "      <td>146.24</td>\n",
       "      <td>...</td>\n",
       "      <td>146.22</td>\n",
       "      <td>146.22</td>\n",
       "      <td>146.22</td>\n",
       "      <td>146.22</td>\n",
       "      <td>146.22</td>\n",
       "      <td>146.22</td>\n",
       "      <td>146.22</td>\n",
       "      <td>146.22</td>\n",
       "      <td>146.22</td>\n",
       "      <td>146.23</td>\n",
       "    </tr>\n",
       "  </tbody>\n",
       "</table>\n",
       "<p>1 rows × 25 columns</p>\n",
       "</div>"
      ],
      "text/plain": [
       "          관측 일시     01시     02시     03시     04시     05시     06시     07시  \\\n",
       "9980 2023-04-03  146.24  146.24  146.24  146.25  146.25  146.25  146.25   \n",
       "\n",
       "         08시     09시  ...     15시     16시     17시     18시     19시     20시  \\\n",
       "9980  146.25  146.24  ...  146.22  146.22  146.22  146.22  146.22  146.22   \n",
       "\n",
       "         21시     22시     23시     24시  \n",
       "9980  146.22  146.22  146.22  146.23  \n",
       "\n",
       "[1 rows x 25 columns]"
      ]
     },
     "execution_count": 80,
     "metadata": {},
     "output_type": "execute_result"
    }
   ],
   "source": [
    "df_dam.tail(1)"
   ]
  },
  {
   "cell_type": "code",
   "execution_count": 81,
   "metadata": {},
   "outputs": [
    {
     "data": {
      "text/html": [
       "<div>\n",
       "<style scoped>\n",
       "    .dataframe tbody tr th:only-of-type {\n",
       "        vertical-align: middle;\n",
       "    }\n",
       "\n",
       "    .dataframe tbody tr th {\n",
       "        vertical-align: top;\n",
       "    }\n",
       "\n",
       "    .dataframe thead th {\n",
       "        text-align: right;\n",
       "    }\n",
       "</style>\n",
       "<table border=\"1\" class=\"dataframe\">\n",
       "  <thead>\n",
       "    <tr style=\"text-align: right;\">\n",
       "      <th></th>\n",
       "      <th>관측 일시</th>\n",
       "      <th>01시</th>\n",
       "      <th>02시</th>\n",
       "      <th>03시</th>\n",
       "      <th>04시</th>\n",
       "      <th>05시</th>\n",
       "      <th>06시</th>\n",
       "      <th>07시</th>\n",
       "      <th>08시</th>\n",
       "      <th>09시</th>\n",
       "      <th>...</th>\n",
       "      <th>15시</th>\n",
       "      <th>16시</th>\n",
       "      <th>17시</th>\n",
       "      <th>18시</th>\n",
       "      <th>19시</th>\n",
       "      <th>20시</th>\n",
       "      <th>21시</th>\n",
       "      <th>22시</th>\n",
       "      <th>23시</th>\n",
       "      <th>24시</th>\n",
       "    </tr>\n",
       "  </thead>\n",
       "  <tbody>\n",
       "    <tr>\n",
       "      <th>9980</th>\n",
       "      <td>2023-04-03</td>\n",
       "      <td>55.85</td>\n",
       "      <td>55.79</td>\n",
       "      <td>55.73</td>\n",
       "      <td>55.67</td>\n",
       "      <td>55.6</td>\n",
       "      <td>55.54</td>\n",
       "      <td>55.48</td>\n",
       "      <td>55.42</td>\n",
       "      <td>55.79</td>\n",
       "      <td>...</td>\n",
       "      <td>56.31</td>\n",
       "      <td>56.26</td>\n",
       "      <td>56.2</td>\n",
       "      <td>56.15</td>\n",
       "      <td>56.1</td>\n",
       "      <td>56.05</td>\n",
       "      <td>55.99</td>\n",
       "      <td>55.94</td>\n",
       "      <td>55.88</td>\n",
       "      <td>55.83</td>\n",
       "    </tr>\n",
       "  </tbody>\n",
       "</table>\n",
       "<p>1 rows × 25 columns</p>\n",
       "</div>"
      ],
      "text/plain": [
       "          관측 일시    01시    02시    03시    04시   05시    06시    07시    08시    09시  \\\n",
       "9980 2023-04-03  55.85  55.79  55.73  55.67  55.6  55.54  55.48  55.42  55.79   \n",
       "\n",
       "      ...    15시    16시   17시    18시   19시    20시    21시    22시    23시    24시  \n",
       "9980  ...  56.31  56.26  56.2  56.15  56.1  56.05  55.99  55.94  55.88  55.83  \n",
       "\n",
       "[1 rows x 25 columns]"
      ]
     },
     "execution_count": 81,
     "metadata": {},
     "output_type": "execute_result"
    }
   ],
   "source": [
    "df_bang.tail(1)"
   ]
  },
  {
   "cell_type": "code",
   "execution_count": null,
   "metadata": {},
   "outputs": [],
   "source": [
    "df_dam_merge = pd.merge(df_dam, df_bang, how='outer', on='관측 일시', suffixes=('_합천댐', '_합천댐방수로'))\n",
    "df_dam_merge.info()"
   ]
  },
  {
   "cell_type": "code",
   "execution_count": 85,
   "metadata": {},
   "outputs": [],
   "source": [
    "df_dam.to_csv('./data/합천댐수위데이터.csv', index=False)\n",
    "df_bang.to_csv('./data/합천댐방수로수위데이터.csv', index=False)\n",
    "df_dam_merge.to_csv('./data/합천댐_댐방수로.csv', index=False)"
   ]
  },
  {
   "cell_type": "code",
   "execution_count": null,
   "metadata": {},
   "outputs": [],
   "source": []
  }
 ],
 "metadata": {
  "kernelspec": {
   "display_name": "Python 3",
   "language": "python",
   "name": "python3"
  },
  "language_info": {
   "codemirror_mode": {
    "name": "ipython",
    "version": 3
   },
   "file_extension": ".py",
   "mimetype": "text/x-python",
   "name": "python",
   "nbconvert_exporter": "python",
   "pygments_lexer": "ipython3",
   "version": "3.11.2"
  },
  "orig_nbformat": 4
 },
 "nbformat": 4,
 "nbformat_minor": 2
}
